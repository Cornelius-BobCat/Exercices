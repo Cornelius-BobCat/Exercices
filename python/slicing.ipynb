{
 "cells": [
  {
   "cell_type": "code",
   "execution_count": 8,
   "metadata": {},
   "outputs": [],
   "source": [
    "liste = [1, 2, 3, 4, 5]\n",
    "liste_de_listes = [[1, 2, 3], [4, 5, 6], [7, 8, 9]]\n",
    "\n",
    "# debut:fin:pas"
   ]
  },
  {
   "cell_type": "code",
   "execution_count": 18,
   "metadata": {},
   "outputs": [
    {
     "name": "stdout",
     "output_type": "stream",
     "text": [
      "[2, 3, 4]\n",
      "[1, 2, 3]\n",
      "[3, 4, 5]\n",
      "[1, 3, 5]\n",
      "[5, 4, 3, 2, 1]\n",
      "[4, 5]\n",
      "creis\n",
      "cornelius\n",
      "[1, 2, 3, 4, 5]\n",
      "[5, 3, 1]\n"
     ]
    }
   ],
   "source": [
    "# Exemple 1 : Sélectionne les éléments de l'index 1 à l'index 3 (non inclus)\n",
    "print(liste[1:4])\n",
    "# Exemple 2 : Sélection de tous les éléments jusqu'à un certain index\n",
    "print(liste[:3])\n",
    "# Exemple 3 : Sélection de tous les éléments à partir d'un certain index\n",
    "print(liste[2:])\n",
    "# Exemple 4 : Sélection de tous les éléments avec un pas spécifique\n",
    "print(liste[::2])\n",
    "# Exemple 5 : Inversion d'une liste\n",
    "print(liste[::-1])\n",
    "# Exemple 6 : Sélection de sous-listes dans une liste de listes\n",
    "print(liste_de_listes[1][:2])\n",
    "# Exemple 7 : Sélection de sous-chaînes dans une chaîne de caractères\n",
    "chaine = \"cornelius\"\n",
    "print(chaine[::2])\n",
    "# Exemple 8 : Utilisation de slicing pour cloner une liste\n",
    "print(chaine[:])\n",
    "print(liste[:])\n",
    "print(liste[::-2])"
   ]
  }
 ],
 "metadata": {
  "kernelspec": {
   "display_name": "base",
   "language": "python",
   "name": "python3"
  },
  "language_info": {
   "codemirror_mode": {
    "name": "ipython",
    "version": 3
   },
   "file_extension": ".py",
   "mimetype": "text/x-python",
   "name": "python",
   "nbconvert_exporter": "python",
   "pygments_lexer": "ipython3",
   "version": "3.11.5"
  }
 },
 "nbformat": 4,
 "nbformat_minor": 2
}
