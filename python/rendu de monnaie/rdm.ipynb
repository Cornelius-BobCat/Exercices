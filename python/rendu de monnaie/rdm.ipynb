{
 "cells": [
  {
   "cell_type": "markdown",
   "metadata": {},
   "source": [
    "# Vous devez rendre la monnaie avec le minium de billet ou de piece"
   ]
  },
  {
   "cell_type": "code",
   "execution_count": 21,
   "metadata": {},
   "outputs": [
    {
     "name": "stdout",
     "output_type": "stream",
     "text": [
      "50 x 1 billets\n",
      "5 x 1 billets\n",
      "0.2 x 1 pièces\n",
      "0.1 x 1 pièces\n",
      "0.01 x 4 pièces\n"
     ]
    }
   ],
   "source": [
    "\n",
    "prix_article = 45\n",
    "somme_donnee = 100.34\n",
    "\n",
    "def rendre_monnaie(prix_article, somme_donnee, systeme_monnaie):\n",
    "    \"\"\"\n",
    "    Rend la monnaie en utilisant le système de monnaie donné\n",
    "    :param prix_article: le prix de l'article\n",
    "    :param somme_donnee: la somme donnée par le client\n",
    "    :param systeme_monnaie: le système de monnaie à utiliser pour rendre la monnaie\n",
    "    :return: un dictionnaire avec les valeurs de monnaie à rendre et leur quantité\n",
    "\n",
    "    Exemple :\n",
    "    rendre_monnaie(45, 100.34, [500, 200, 100, 50, 20, 10, 5, 2, 1, 0.5, 0.2, 0.1, 0.05, 0.01])\n",
    "    Rendu : {500: 0, 200: 0, 100: 0, 50: 1, 20: 2, 10: 0, 5: 1, 2: 2, 1: 0, 0.5: 0, 0.2: 1, 0.1: 1, 0.05: 1, 0.01: 4}   \n",
    "\n",
    "    Code : \n",
    "    etape 1 : soustraction de la somme donnée par le prix de l'article\n",
    "    etape 2 : initialisation du dictionnaire rendu avec toutes les valeurs de monnaie à 0\n",
    "    etape 3 : pour chaque valeur de monnaie, tant que la somme à rendre est supérieure \n",
    "              ou égale à la valeur de monnaie, on incrémente la quantité de cette \n",
    "              valeur dans le dictionnaire rendu et on soustrait la valeur de monnaie \n",
    "              à la somme à rendre\n",
    "    etape 4 : on retourne le dictionnaire \n",
    "    \"\"\"\n",
    "\n",
    "    somme_a_rendre = somme_donnee - prix_article\n",
    "    rendu = {valeur: 0 for valeur in systeme_monnaie}\n",
    "\n",
    "    for valeur in systeme_monnaie:\n",
    "        while somme_a_rendre >= valeur:\n",
    "            rendu[valeur] += 1\n",
    "            somme_a_rendre -= valeur\n",
    "\n",
    "    return rendu\n",
    "\n",
    "systeme_monnaie = [500, 200, 100, 50, 20, 10, 5, 2, 1, 0.5, 0.2, 0.1, 0.05, 0.01]\n",
    "\n",
    "rendu = rendre_monnaie(prix_article, somme_donnee, systeme_monnaie)\n",
    "\n",
    "for valeur, quantite in rendu.items():\n",
    "    if quantite > 0:\n",
    "        if valeur >= 5:\n",
    "            print(f\"{valeur} x {quantite} billets\")\n",
    "        else:\n",
    "            print(f\"{valeur} x {quantite} pièces\")\n"
   ]
  },
  {
   "cell_type": "code",
   "execution_count": null,
   "metadata": {},
   "outputs": [],
   "source": []
  }
 ],
 "metadata": {
  "kernelspec": {
   "display_name": "base",
   "language": "python",
   "name": "python3"
  },
  "language_info": {
   "codemirror_mode": {
    "name": "ipython",
    "version": 3
   },
   "file_extension": ".py",
   "mimetype": "text/x-python",
   "name": "python",
   "nbconvert_exporter": "python",
   "pygments_lexer": "ipython3",
   "version": "3.11.5"
  }
 },
 "nbformat": 4,
 "nbformat_minor": 2
}
