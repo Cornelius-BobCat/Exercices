{
 "cells": [
  {
   "cell_type": "code",
   "execution_count": null,
   "metadata": {},
   "outputs": [],
   "source": [
    "def afficher_mot_cache(mot, lettres_trouvees):\n",
    "  return ''.join([lettre if lettre in lettres_trouvees else '_' for lettre in mot])"
   ]
  },
  {
   "cell_type": "code",
   "execution_count": null,
   "metadata": {},
   "outputs": [],
   "source": [
    "def dessiner_pendu(nb_coup):\n",
    "  \"\"\"\n",
    "  nb_coup int\n",
    "  \"\"\"\n",
    "  dessin = [\n",
    "      \"  _____ \",\n",
    "      \" |/    |\",\n",
    "      \" |     O\",\n",
    "      \" |    /|\\\\\",\n",
    "      \" |    / \\\\\",\n",
    "      \" |\",\n",
    "      \"_|_\"\n",
    "  ]\n",
    "  for i in range(nb_coup):\n",
    "    print(dessin[i])"
   ]
  },
  {
   "cell_type": "code",
   "execution_count": null,
   "metadata": {},
   "outputs": [],
   "source": [
    "import re"
   ]
  },
  {
   "cell_type": "code",
   "execution_count": null,
   "metadata": {},
   "outputs": [],
   "source": [
    "def pendu():\n",
    "  mot_a_trouver = \"jeu\"\n",
    "  lettres_trouvees = set()\n",
    "  essaie = 7\n",
    "  nb_coup = 7\n",
    "\n",
    "  while nb_coup > 0:\n",
    "    mot_cache = afficher_mot_cache(mot_a_trouver, lettres_trouvees)\n",
    "    print(f\"le mot a trouver est : {mot_cache}\")\n",
    "\n",
    "    if mot_cache == mot_a_trouver:\n",
    "      print(\"Vous avez gagné !!!!\")\n",
    "      break\n",
    "\n",
    "    while True:\n",
    "      lettre = input(\"entrer une lettre : \").lower()\n",
    "      if len(lettre) == 1 and re.match(\"[a-z]\", lettre):\n",
    "        break\n",
    "      else:\n",
    "        print('juste 1 lettre')\n",
    "    if lettre in mot_a_trouver:\n",
    "      lettres_trouvees.add(lettre)\n",
    "      print('Top tu as trouvé une lettre !')\n",
    "    else:\n",
    "      nb_coup -=1\n",
    "      print(f\"Dommage , il te reste {nb_coup} a jouer\")\n",
    "      dessiner_pendu(essaie - nb_coup)\n",
    "    print(50*'-')\n",
    "  \n",
    "  else:\n",
    "    print(f'vous avez échoué, le mot était {mot_a_trouver}')\n",
    "\n",
    "pendu()"
   ]
  }
 ],
 "metadata": {
  "language_info": {
   "name": "python"
  }
 },
 "nbformat": 4,
 "nbformat_minor": 2
}
